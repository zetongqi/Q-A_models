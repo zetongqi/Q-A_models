{
 "cells": [
  {
   "cell_type": "code",
   "execution_count": 67,
   "metadata": {},
   "outputs": [],
   "source": [
    "import tensorflow as tf\n",
    "from pymagnitude import *\n",
    "import os\n",
    "import csv\n",
    "from tqdm import tqdm\n",
    "import logging\n",
    "from collections import Counter\n",
    "import pickle\n",
    "import re\n",
    "import regex\n",
    "import logging\n",
    "import numpy as np\n",
    "\n",
    "TRAINING_DATAFILE = \"/Users/zxq001/QNLI/train.tsv\""
   ]
  },
  {
   "cell_type": "code",
   "execution_count": 53,
   "metadata": {},
   "outputs": [],
   "source": [
    "# load pretrained embedding\n",
    "vectors = Magnitude(\"/Users/zxq001/glove.840B.300d.magnitude\")"
   ]
  },
  {
   "cell_type": "code",
   "execution_count": 54,
   "metadata": {},
   "outputs": [
    {
     "name": "stdout",
     "output_type": "stream",
     "text": [
      "_________________________________________________________________\n",
      "Layer (type)                 Output Shape              Param #   \n",
      "=================================================================\n",
      "input_3 (InputLayer)         (None, None)              0         \n",
      "_________________________________________________________________\n",
      "embedding_2 (Embedding)      (None, None, 300)         658805100 \n",
      "_________________________________________________________________\n",
      "bidirectional_2 (Bidirection (None, None, 600)         1442400   \n",
      "_________________________________________________________________\n",
      "global_max_pooling1d_2 (Glob (None, 600)               0         \n",
      "_________________________________________________________________\n",
      "dense_2 (Dense)              (None, 1)                 601       \n",
      "=================================================================\n",
      "Total params: 660,248,101\n",
      "Trainable params: 660,248,101\n",
      "Non-trainable params: 0\n",
      "_________________________________________________________________\n"
     ]
    }
   ],
   "source": [
    "i = tf.keras.layers.Input(shape=(None,))\n",
    "embeddings = tf.keras.layers.Embedding(len(vectors), vectors.dim)(i)\n",
    "lstm = tf.keras.layers.Bidirectional(tf.keras.layers.LSTM(vectors.dim, return_sequences=True))(embeddings)\n",
    "maxpool = tf.keras.layers.GlobalMaxPooling1D()(lstm)\n",
    "output = tf.keras.layers.Dense(1, activation=\"softmax\")(maxpool)\n",
    "model = tf.keras.Model(inputs=i, outputs=output)\n",
    "model.summary()"
   ]
  },
  {
   "cell_type": "code",
   "execution_count": null,
   "metadata": {},
   "outputs": [],
   "source": [
    "# trains and saves the model\n",
    "def train():\n",
    "    # load data\n",
    "    questions, answers, labels = read_QNLI_dataset(TRAINING_DATAFILE)\n",
    "    \n",
    "    # embedding transformation\n",
    "    X1 = vectors.query(questions)\n",
    "    X2 = vectors.query(answers)\n",
    "    y = labels\n",
    "    \n",
    "    # concatnate input vectors\n",
    "    X = tf.concat([X1, X2, abs(X1-X2), tf.math.multiply(X1, X2)], 1)\n",
    "    \n",
    "    # create model\n",
    "    i = tf.keras.layers.Input(shape=(None,))\n",
    "    embeddings = tf.keras.layers.Embedding(len(vectors), vectors.dim)(i)\n",
    "    lstm = tf.keras.layers.Bidirectional(tf.keras.layers.LSTM(vectors.dim, return_sequences=True))(embeddings)\n",
    "    maxpool = tf.keras.layers.GlobalMaxPooling1D()(lstm)\n",
    "    output = tf.keras.layers.Dense(1, activation=\"softmax\")(maxpool)\n",
    "    model = tf.keras.Model(inputs=i, outputs=output)\n",
    "    "
   ]
  },
  {
   "cell_type": "code",
   "execution_count": 56,
   "metadata": {},
   "outputs": [],
   "source": [
    "# read QNLI dataset from GLUE benchmark\n",
    "def read_QNLI_dataset(FILE_PATH):\n",
    "    trainfile = open(FILE_PATH)\n",
    "    trainfile = csv.reader(trainfile, delimiter='\\t')\n",
    "    questions_raw = []\n",
    "    answers_raw = []\n",
    "    labels = []\n",
    "    # skip the header\n",
    "    next(trainfile)\n",
    "    for row in trainfile:\n",
    "        questions_raw.append(row[1])\n",
    "        answers_raw.append(row[2])\n",
    "        if row[3] == \"entailment\":\n",
    "            labels.append(1)\n",
    "        else:\n",
    "            labels.append(0)\n",
    "    # seperate the questions and answers into words\n",
    "    questions = []\n",
    "    answers = []\n",
    "    for question in questions_raw:\n",
    "        questions.append(regex.findall(r\"[^[:punct:] ]+|[[:punct:]]\", question))\n",
    "    for answer in answers_raw:\n",
    "        answers.append(regex.findall(r\"[^[:punct:] ]+|[[:punct:]]\", answer))\n",
    "    return questions, answers, labels"
   ]
  },
  {
   "cell_type": "code",
   "execution_count": 30,
   "metadata": {},
   "outputs": [],
   "source": [
    "questions, answers, labels = read_QNLI_dataset(TRAINING_DATAFILE)"
   ]
  },
  {
   "cell_type": "code",
   "execution_count": 46,
   "metadata": {},
   "outputs": [
    {
     "data": {
      "text/plain": [
       "(3, 17, 300)"
      ]
     },
     "execution_count": 46,
     "metadata": {},
     "output_type": "execute_result"
    }
   ],
   "source": [
    "vectors.query(questions[0:3]).shape"
   ]
  },
  {
   "cell_type": "code",
   "execution_count": 58,
   "metadata": {},
   "outputs": [],
   "source": [
    "X1 = vectors.query(questions)\n",
    "X2 = vectors.query(answers)\n",
    "y = labels"
   ]
  },
  {
   "cell_type": "code",
   "execution_count": 59,
   "metadata": {},
   "outputs": [
    {
     "data": {
      "text/plain": [
       "(103140, 60, 300)"
      ]
     },
     "execution_count": 59,
     "metadata": {},
     "output_type": "execute_result"
    }
   ],
   "source": [
    "X1.shape"
   ]
  },
  {
   "cell_type": "code",
   "execution_count": 60,
   "metadata": {},
   "outputs": [
    {
     "data": {
      "text/plain": [
       "(103140, 1761, 300)"
      ]
     },
     "execution_count": 60,
     "metadata": {},
     "output_type": "execute_result"
    }
   ],
   "source": [
    "X2.shape"
   ]
  },
  {
   "cell_type": "code",
   "execution_count": 61,
   "metadata": {},
   "outputs": [
    {
     "ename": "ValueError",
     "evalue": "operands could not be broadcast together with shapes (103140,60,300) (103140,1761,300) ",
     "output_type": "error",
     "traceback": [
      "\u001b[0;31m---------------------------------------------------------------------------\u001b[0m",
      "\u001b[0;31mValueError\u001b[0m                                Traceback (most recent call last)",
      "\u001b[0;32m<ipython-input-61-f2901b3ac8c3>\u001b[0m in \u001b[0;36m<module>\u001b[0;34m\u001b[0m\n\u001b[0;32m----> 1\u001b[0;31m \u001b[0mabs\u001b[0m\u001b[0;34m(\u001b[0m\u001b[0mX1\u001b[0m\u001b[0;34m-\u001b[0m\u001b[0mX2\u001b[0m\u001b[0;34m)\u001b[0m\u001b[0;34m\u001b[0m\u001b[0;34m\u001b[0m\u001b[0m\n\u001b[0m",
      "\u001b[0;31mValueError\u001b[0m: operands could not be broadcast together with shapes (103140,60,300) (103140,1761,300) "
     ]
    }
   ],
   "source": [
    "abs(X1-X2)"
   ]
  },
  {
   "cell_type": "code",
   "execution_count": 79,
   "metadata": {},
   "outputs": [
    {
     "data": {
      "text/plain": [
       "60"
      ]
     },
     "execution_count": 79,
     "metadata": {},
     "output_type": "execute_result"
    }
   ],
   "source": [
    "len(np.amax(answers))"
   ]
  },
  {
   "cell_type": "code",
   "execution_count": 70,
   "metadata": {},
   "outputs": [
    {
     "data": {
      "text/plain": [
       "(1761, 300)"
      ]
     },
     "execution_count": 70,
     "metadata": {},
     "output_type": "execute_result"
    }
   ],
   "source": [
    "X2[32972].shape"
   ]
  },
  {
   "cell_type": "code",
   "execution_count": 73,
   "metadata": {},
   "outputs": [
    {
     "data": {
      "text/plain": [
       "60"
      ]
     },
     "execution_count": 73,
     "metadata": {},
     "output_type": "execute_result"
    }
   ],
   "source": [
    "len(answers[32972])"
   ]
  },
  {
   "cell_type": "code",
   "execution_count": 76,
   "metadata": {},
   "outputs": [
    {
     "data": {
      "text/plain": [
       "(1761, 300)"
      ]
     },
     "execution_count": 76,
     "metadata": {},
     "output_type": "execute_result"
    }
   ],
   "source": [
    "X2[1].shape"
   ]
  },
  {
   "cell_type": "code",
   "execution_count": 77,
   "metadata": {},
   "outputs": [
    {
     "data": {
      "text/plain": [
       "30"
      ]
     },
     "execution_count": 77,
     "metadata": {},
     "output_type": "execute_result"
    }
   ],
   "source": [
    "len(answers[1])"
   ]
  },
  {
   "cell_type": "code",
   "execution_count": null,
   "metadata": {},
   "outputs": [],
   "source": []
  }
 ],
 "metadata": {
  "kernelspec": {
   "display_name": "Python 3",
   "language": "python",
   "name": "python3"
  },
  "language_info": {
   "codemirror_mode": {
    "name": "ipython",
    "version": 3
   },
   "file_extension": ".py",
   "mimetype": "text/x-python",
   "name": "python",
   "nbconvert_exporter": "python",
   "pygments_lexer": "ipython3",
   "version": "3.7.3"
  }
 },
 "nbformat": 4,
 "nbformat_minor": 2
}
