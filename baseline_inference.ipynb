{
 "cells": [
  {
   "cell_type": "code",
   "execution_count": 1,
   "metadata": {},
   "outputs": [
    {
     "name": "stdout",
     "output_type": "stream",
     "text": [
      "WARNING:tensorflow:From /usr/local/lib/python3.7/site-packages/tensorflow/python/ops/resource_variable_ops.py:435: colocate_with (from tensorflow.python.framework.ops) is deprecated and will be removed in a future version.\n",
      "Instructions for updating:\n",
      "Colocations handled automatically by placer.\n"
     ]
    }
   ],
   "source": [
    "import tensorflow as tf\n",
    "from pymagnitude import *\n",
    "import os\n",
    "import csv\n",
    "from tqdm import tqdm\n",
    "import logging\n",
    "from collections import Counter\n",
    "import pickle\n",
    "import re\n",
    "import regex\n",
    "import logging\n",
    "import numpy as np\n",
    "\n",
    "# QNLI training data path\n",
    "TRAINING_DATAFILE = \"/Users/zxq001/QNLI/train.tsv\"\n",
    "# load pretrained embedding\n",
    "vectors = Magnitude(\"/Users/zxq001/glove.840B.300d.magnitude\")\n",
    "\n",
    "# the maximimum length for the question sequence\n",
    "MAX_SEQ_LENGTH = 100\n",
    "\n",
    "# u = question sequence embedding (MAX_SEQ_LENGTH, 300) -> 1500D bidirectional LSTM -> maxpooling\n",
    "q_in = tf.keras.layers.Input(shape=(MAX_SEQ_LENGTH, vectors.dim))\n",
    "q_Bidir_LSTM = tf.keras.layers.Bidirectional(tf.keras.layers.LSTM(1500, activation='tanh', return_sequences=True), merge_mode='concat')(q_in)\n",
    "expanded_q_LSTM = tf.keras.layers.Lambda(lambda x: tf.expand_dims(x, axis=-1))(q_Bidir_LSTM)\n",
    "q_maxpool = tf.keras.layers.MaxPooling2D(pool_size=(MAX_SEQ_LENGTH, 1))(expanded_q_LSTM)\n",
    "u =  tf.keras.layers.Lambda(lambda x: tf.squeeze(x, axis=-1))(q_maxpool)\n",
    "\n",
    "# v = answer sequence embedding (MAX_SEQ_LENGTH, 300) -> 1500D bidirectional LSTM -> maxpooling\n",
    "a_in = tf.keras.layers.Input(shape=(MAX_SEQ_LENGTH, vectors.dim))\n",
    "a_Bidir_LSTM = tf.keras.layers.Bidirectional(tf.keras.layers.LSTM(1500, activation='tanh', return_sequences=True), merge_mode='concat')(a_in)\n",
    "expanded_a_LSTM = tf.keras.layers.Lambda(lambda x: tf.expand_dims(x, axis=-1))(a_Bidir_LSTM)\n",
    "a_maxpool = tf.keras.layers.MaxPooling2D(pool_size=(MAX_SEQ_LENGTH, 1))(expanded_a_LSTM)\n",
    "v =  tf.keras.layers.Lambda(lambda x: tf.squeeze(x, axis=-1))(a_maxpool)"
   ]
  },
  {
   "cell_type": "code",
   "execution_count": 4,
   "metadata": {},
   "outputs": [
    {
     "data": {
      "text/plain": [
       "<tf.Tensor 'sub:0' shape=(?, 1, 3000) dtype=float32>"
      ]
     },
     "execution_count": 4,
     "metadata": {},
     "output_type": "execute_result"
    }
   ],
   "source": [
    "u-v"
   ]
  },
  {
   "cell_type": "code",
   "execution_count": 3,
   "metadata": {},
   "outputs": [
    {
     "data": {
      "text/plain": [
       "<tf.Tensor 'lambda_3/Squeeze:0' shape=(?, 1, 3000) dtype=float32>"
      ]
     },
     "execution_count": 3,
     "metadata": {},
     "output_type": "execute_result"
    }
   ],
   "source": [
    "v"
   ]
  },
  {
   "cell_type": "code",
   "execution_count": 39,
   "metadata": {},
   "outputs": [],
   "source": [
    "# trains and saves the model\n",
    "def train():\n",
    "    # load data\n",
    "    questions, answers, labels = read_QNLI_dataset(TRAINING_DATAFILE)\n",
    "    \n",
    "    # embedding transformation\n",
    "    X1 = vectors.query(questions)\n",
    "    X2 = vectors.query(answers)\n",
    "    y = labels\n",
    "    \n",
    "    # concatnate input vectors\n",
    "    X = tf.concat([X1, X2, abs(X1-X2), tf.math.multiply(X1, X2)], 1)\n",
    "    \n",
    "    # create model\n",
    "    q = tf.keras.layers.Input(shape=(None,))\n",
    "    a = tf.keras.layers.Input(shape=(None,))\n",
    "    \n",
    "    qembeddings = tf.keras.layers.Embedding(len(vectors), vectors.dim, mask_zero=True)(q)\n",
    "    aembeddings = tf.keras.layers.Embedding(len(vectors), vectors.dim, mask_zero=True)(a)\n",
    "    \n",
    "    qlstm1 = tf.keras.layers.Bidirectional(tf.keras.layers.LSTM(vectors.dim, return_sequences=True))(qembeddings)\n",
    "    qlstm = tf.keras.layers.Bidirectional(tf.keras.layers.LSTM(vectors.dim))(qlstm1)\n",
    "    \n",
    "    alstm1 = tf.keras.layers.Bidirectional(tf.keras.layers.LSTM(vectors.dim, return_sequences=True))(aembeddings)\n",
    "    alstm = tf.keras.layers.Bidirectional(tf.keras.layers.LSTM(vectors.dim))(alstm1)\n",
    "    \n",
    "    qmaxpool = tf.keras.layers.GlobalMaxPooling1D()(qlstm)\n",
    "    amaxpool = tf.keras.layers.GlobalMaxPooling1D()(alstm)\n",
    "    \n",
    "    \n",
    "    output = tf.keras.layers.Dense(1, activation=\"softmax\")(maxpool)\n",
    "    model = tf.keras.Model(inputs=i, outputs=output)\n",
    "    "
   ]
  },
  {
   "cell_type": "code",
   "execution_count": 5,
   "metadata": {},
   "outputs": [],
   "source": [
    "# read QNLI dataset from GLUE benchmark\n",
    "def read_QNLI_dataset(FILE_PATH):\n",
    "    trainfile = open(FILE_PATH)\n",
    "    trainfile = csv.reader(trainfile, delimiter='\\t')\n",
    "    questions_raw = []\n",
    "    answers_raw = []\n",
    "    labels = []\n",
    "    # skip the header\n",
    "    next(trainfile)\n",
    "    for row in trainfile:\n",
    "        questions_raw.append(row[1])\n",
    "        answers_raw.append(row[2])\n",
    "        if row[3] == \"entailment\":\n",
    "            labels.append(1)\n",
    "        else:\n",
    "            labels.append(0)\n",
    "    # seperate the questions and answers into words\n",
    "    questions = []\n",
    "    answers = []\n",
    "    for question in questions_raw:\n",
    "        questions.append(regex.findall(r\"[^[:punct:] ]+|[[:punct:]]\", question))\n",
    "    for answer in answers_raw:\n",
    "        answers.append(regex.findall(r\"[^[:punct:] ]+|[[:punct:]]\", answer))\n",
    "    return questions, answers, labels"
   ]
  },
  {
   "cell_type": "code",
   "execution_count": 6,
   "metadata": {},
   "outputs": [],
   "source": [
    "questions, answers, labels = read_QNLI_dataset(TRAINING_DATAFILE)"
   ]
  }
 ],
 "metadata": {
  "kernelspec": {
   "display_name": "Python 3",
   "language": "python",
   "name": "python3"
  },
  "language_info": {
   "codemirror_mode": {
    "name": "ipython",
    "version": 3
   },
   "file_extension": ".py",
   "mimetype": "text/x-python",
   "name": "python",
   "nbconvert_exporter": "python",
   "pygments_lexer": "ipython3",
   "version": "3.7.3"
  }
 },
 "nbformat": 4,
 "nbformat_minor": 2
}
