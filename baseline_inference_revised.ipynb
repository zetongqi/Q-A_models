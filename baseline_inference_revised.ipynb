{
 "cells": [
  {
   "cell_type": "code",
   "execution_count": 1,
   "metadata": {},
   "outputs": [],
   "source": [
    "import tensorflow as tf\n",
    "from pymagnitude import *\n",
    "import os\n",
    "import csv\n",
    "import logging\n",
    "import numpy as np\n",
    "import regex\n",
    "import random\n",
    "\n",
    "# QNLI training and test data path\n",
    "TRAINING_DATAFILE = \"/Users/zxq001/QNLI/train.tsv\"\n",
    "DEV_DATAFILE = \"//Users/zxq001//QNLI/dev.tsv\"\n",
    "# load pretrained embedding\n",
    "vectors = Magnitude(\"/Users/zxq001/glove.840B.300d.magnitude\")\n",
    "MODEL_FILE = \"/Users/zxq001/model.h5\"\n",
    "\n",
    "# prepare logger\n",
    "logger = logging.getLogger(__name__)\n",
    "logger.addHandler(logging.StreamHandler())\n",
    "logger.setLevel(logging.DEBUG)\n",
    "tf.logging.set_verbosity(logging.ERROR)\n",
    "\n",
    "# hyperparameters\n",
    "MAX_SEQ_LENGTH = 100\n",
    "BATCH_SIZE = 64\n",
    "EPOCHS = 100"
   ]
  },
  {
   "cell_type": "markdown",
   "metadata": {},
   "source": [
    "# build baseline model"
   ]
  },
  {
   "cell_type": "code",
   "execution_count": 2,
   "metadata": {},
   "outputs": [
    {
     "name": "stdout",
     "output_type": "stream",
     "text": [
      "__________________________________________________________________________________________________\n",
      "Layer (type)                    Output Shape         Param #     Connected to                     \n",
      "==================================================================================================\n",
      "input_1 (InputLayer)            (None, 100, 300)     0                                            \n",
      "__________________________________________________________________________________________________\n",
      "input_2 (InputLayer)            (None, 100, 300)     0                                            \n",
      "__________________________________________________________________________________________________\n",
      "bidirectional (Bidirectional)   (None, 100, 3000)    21612000    input_1[0][0]                    \n",
      "                                                                 input_2[0][0]                    \n",
      "__________________________________________________________________________________________________\n",
      "lambda (Lambda)                 (None, 100, 3000, 1) 0           bidirectional[0][0]              \n",
      "__________________________________________________________________________________________________\n",
      "lambda_1 (Lambda)               (None, 100, 3000, 1) 0           bidirectional[1][0]              \n",
      "__________________________________________________________________________________________________\n",
      "max_pooling2d (MaxPooling2D)    (None, 1, 3000, 1)   0           lambda[0][0]                     \n",
      "__________________________________________________________________________________________________\n",
      "max_pooling2d_1 (MaxPooling2D)  (None, 1, 3000, 1)   0           lambda_1[0][0]                   \n",
      "__________________________________________________________________________________________________\n",
      "lambda_2 (Lambda)               (None, 1, 3000)      0           max_pooling2d[0][0]              \n",
      "__________________________________________________________________________________________________\n",
      "lambda_3 (Lambda)               (None, 1, 3000)      0           max_pooling2d_1[0][0]            \n",
      "__________________________________________________________________________________________________\n",
      "lambda_4 (Lambda)               (None, 1, 12000)     0           lambda_2[0][0]                   \n",
      "                                                                 lambda_3[0][0]                   \n",
      "__________________________________________________________________________________________________\n",
      "dense (Dense)                   (None, 1, 512)       6144512     lambda_4[0][0]                   \n",
      "__________________________________________________________________________________________________\n",
      "dense_1 (Dense)                 (None, 1, 1)         513         dense[0][0]                      \n",
      "==================================================================================================\n",
      "Total params: 27,757,025\n",
      "Trainable params: 27,757,025\n",
      "Non-trainable params: 0\n",
      "__________________________________________________________________________________________________\n"
     ]
    }
   ],
   "source": [
    "# questions and answers embeddings\n",
    "q_in = tf.keras.layers.Input(shape=(MAX_SEQ_LENGTH, vectors.dim))\n",
    "a_in = tf.keras.layers.Input(shape=(MAX_SEQ_LENGTH, vectors.dim))\n",
    "# shared bidirectional LSTM\n",
    "Bidir_LSTM = tf.keras.layers.Bidirectional(tf.keras.layers.LSTM(1500, activation='tanh', return_sequences=True), merge_mode='concat')\n",
    "# question and answer bidirectional LSTM output\n",
    "q_Bidir_LSTM = Bidir_LSTM(q_in)\n",
    "a_Bidir_LSTM = Bidir_LSTM(a_in)\n",
    "# expand questions and answers bidirectional LSTM output dimension for maxpooling\n",
    "expanded_q_LSTM = tf.keras.layers.Lambda(lambda x: tf.expand_dims(x, axis=-1))(q_Bidir_LSTM)\n",
    "expanded_a_LSTM = tf.keras.layers.Lambda(lambda x: tf.expand_dims(x, axis=-1))(a_Bidir_LSTM)\n",
    "# maxpooling layers\n",
    "q_maxpool = tf.keras.layers.MaxPooling2D(pool_size=(MAX_SEQ_LENGTH, 1))(expanded_q_LSTM)\n",
    "a_maxpool = tf.keras.layers.MaxPooling2D(pool_size=(MAX_SEQ_LENGTH, 1))(expanded_a_LSTM)\n",
    "# encoded u and v vector\n",
    "u =  tf.keras.layers.Lambda(lambda x: tf.squeeze(x, axis=-1))(q_maxpool)\n",
    "v =  tf.keras.layers.Lambda(lambda x: tf.squeeze(x, axis=-1))(a_maxpool)\n",
    "\n",
    "# define the concatenation function for the Lambda layer\n",
    "def concat_u_v(uv):\n",
    "    u = uv[0]\n",
    "    v = uv[1]\n",
    "    return tf.concat([u, v, tf.math.abs(u-v), tf.math.multiply(u, v)], -1)\n",
    "\n",
    "# concatenate (u, v, |u-v|, u*v) vector and feed it to the classifier\n",
    "concat_output = tf.keras.layers.Lambda(concat_u_v)([u, v])\n",
    "# MLP with a 512D hidden layer\n",
    "hidden = tf.keras.layers.Dense(512)(concat_output)\n",
    "# output = concatenation layer (u, v, |u-v|, u*v) -> 512D hidden layer -> output node\n",
    "output = tf.keras.layers.Dense(1, activation=\"softmax\")(hidden)\n",
    "model = tf.keras.Model(inputs=[q_in, a_in], outputs=output)\n",
    "model.summary()\n",
    "model.compile(loss=\"binary_crossentropy\", optimizer=\"adam\", metrics=[\"acc\"])"
   ]
  },
  {
   "cell_type": "markdown",
   "metadata": {},
   "source": [
    "# define tokenization function"
   ]
  },
  {
   "cell_type": "code",
   "execution_count": 14,
   "metadata": {},
   "outputs": [],
   "source": [
    "# read QNLI dataset from GLUE benchmark and return tokenized questions and answers\n",
    "def tokenize_QNLI_dataset(FILE_PATH):\n",
    "    trainfile = open(FILE_PATH)\n",
    "    trainfile = csv.reader(trainfile, delimiter='\\t')\n",
    "    questions_raw = []\n",
    "    answers_raw = []\n",
    "    labels = []\n",
    "    # skip the header\n",
    "    next(trainfile)\n",
    "    for row in trainfile:\n",
    "        questions_raw.append(row[1])\n",
    "        answers_raw.append(row[2])\n",
    "        if row[3] == \"entailment\":\n",
    "            labels.append(1)\n",
    "        else:\n",
    "            labels.append(0)\n",
    "    # seperate the questions and answers into words\n",
    "    questions = []\n",
    "    answers = []\n",
    "    for question in questions_raw:\n",
    "        questions.append(regex.findall(r\"[^[:punct:] ]+|[[:punct:]]\", question))\n",
    "    for answer in answers_raw:\n",
    "        answers.append(regex.findall(r\"[^[:punct:] ]+|[[:punct:]]\", answer))\n",
    "    return questions, answers, labels"
   ]
  },
  {
   "cell_type": "markdown",
   "metadata": {},
   "source": [
    "# batchify training and testing dataset"
   ]
  },
  {
   "cell_type": "code",
   "execution_count": 15,
   "metadata": {},
   "outputs": [
    {
     "ename": "KeyboardInterrupt",
     "evalue": "",
     "output_type": "error",
     "traceback": [
      "\u001b[0;31m---------------------------------------------------------------------------\u001b[0m",
      "\u001b[0;31mKeyboardInterrupt\u001b[0m                         Traceback (most recent call last)",
      "\u001b[0;32m<ipython-input-15-7d0852f6694d>\u001b[0m in \u001b[0;36m<module>\u001b[0;34m\u001b[0m\n\u001b[0;32m----> 1\u001b[0;31m \u001b[0mquestions\u001b[0m\u001b[0;34m,\u001b[0m \u001b[0manswers\u001b[0m\u001b[0;34m,\u001b[0m \u001b[0mlabels\u001b[0m \u001b[0;34m=\u001b[0m \u001b[0mtokenize_QNLI_dataset\u001b[0m\u001b[0;34m(\u001b[0m\u001b[0mTRAINING_DATAFILE\u001b[0m\u001b[0;34m)\u001b[0m\u001b[0;34m\u001b[0m\u001b[0;34m\u001b[0m\u001b[0m\n\u001b[0m\u001b[1;32m      2\u001b[0m \u001b[0mq_vec\u001b[0m \u001b[0;34m=\u001b[0m \u001b[0mvectors\u001b[0m\u001b[0;34m.\u001b[0m\u001b[0mquery\u001b[0m\u001b[0;34m(\u001b[0m\u001b[0mquestions\u001b[0m\u001b[0;34m)\u001b[0m\u001b[0;34m\u001b[0m\u001b[0;34m\u001b[0m\u001b[0m\n\u001b[1;32m      3\u001b[0m \u001b[0ma_vec\u001b[0m \u001b[0;34m=\u001b[0m \u001b[0mvectors\u001b[0m\u001b[0;34m.\u001b[0m\u001b[0mquery\u001b[0m\u001b[0;34m(\u001b[0m\u001b[0manswers\u001b[0m\u001b[0;34m)\u001b[0m\u001b[0;34m\u001b[0m\u001b[0;34m\u001b[0m\u001b[0m\n",
      "\u001b[0;32m<ipython-input-14-604d6b016f7d>\u001b[0m in \u001b[0;36mtokenize_QNLI_dataset\u001b[0;34m(FILE_PATH)\u001b[0m\n\u001b[1;32m     21\u001b[0m         \u001b[0mquestions\u001b[0m\u001b[0;34m.\u001b[0m\u001b[0mappend\u001b[0m\u001b[0;34m(\u001b[0m\u001b[0mregex\u001b[0m\u001b[0;34m.\u001b[0m\u001b[0mfindall\u001b[0m\u001b[0;34m(\u001b[0m\u001b[0;34mr\"[^[:punct:] ]+|[[:punct:]]\"\u001b[0m\u001b[0;34m,\u001b[0m \u001b[0mquestion\u001b[0m\u001b[0;34m)\u001b[0m\u001b[0;34m)\u001b[0m\u001b[0;34m\u001b[0m\u001b[0;34m\u001b[0m\u001b[0m\n\u001b[1;32m     22\u001b[0m     \u001b[0;32mfor\u001b[0m \u001b[0manswer\u001b[0m \u001b[0;32min\u001b[0m \u001b[0manswers_raw\u001b[0m\u001b[0;34m:\u001b[0m\u001b[0;34m\u001b[0m\u001b[0;34m\u001b[0m\u001b[0m\n\u001b[0;32m---> 23\u001b[0;31m         \u001b[0manswers\u001b[0m\u001b[0;34m.\u001b[0m\u001b[0mappend\u001b[0m\u001b[0;34m(\u001b[0m\u001b[0mregex\u001b[0m\u001b[0;34m.\u001b[0m\u001b[0mfindall\u001b[0m\u001b[0;34m(\u001b[0m\u001b[0;34mr\"[^[:punct:] ]+|[[:punct:]]\"\u001b[0m\u001b[0;34m,\u001b[0m \u001b[0manswer\u001b[0m\u001b[0;34m)\u001b[0m\u001b[0;34m)\u001b[0m\u001b[0;34m\u001b[0m\u001b[0;34m\u001b[0m\u001b[0m\n\u001b[0m\u001b[1;32m     24\u001b[0m     \u001b[0;32mreturn\u001b[0m \u001b[0mquestions\u001b[0m\u001b[0;34m,\u001b[0m \u001b[0manswers\u001b[0m\u001b[0;34m,\u001b[0m \u001b[0mlabels\u001b[0m\u001b[0;34m\u001b[0m\u001b[0;34m\u001b[0m\u001b[0m\n",
      "\u001b[0;32m/usr/local/lib/python3.7/site-packages/regex/regex.py\u001b[0m in \u001b[0;36mfindall\u001b[0;34m(pattern, string, flags, pos, endpos, overlapped, concurrent, timeout, **kwargs)\u001b[0m\n\u001b[1;32m    333\u001b[0m     more than one group. Empty matches are included in the result.\"\"\"\n\u001b[1;32m    334\u001b[0m     return _compile(pattern, flags, kwargs).findall(string, pos, endpos,\n\u001b[0;32m--> 335\u001b[0;31m       overlapped, concurrent, timeout)\n\u001b[0m\u001b[1;32m    336\u001b[0m \u001b[0;34m\u001b[0m\u001b[0m\n\u001b[1;32m    337\u001b[0m def finditer(pattern, string, flags=0, pos=None, endpos=None, overlapped=False,\n",
      "\u001b[0;31mKeyboardInterrupt\u001b[0m: "
     ]
    }
   ],
   "source": [
    "questions, answers, labels = tokenize_QNLI_dataset(TRAINING_DATAFILE)\n",
    "q_vec = vectors.query(questions)\n",
    "a_vec = vectors.query(answers)\n"
   ]
  },
  {
   "cell_type": "code",
   "execution_count": null,
   "metadata": {},
   "outputs": [],
   "source": []
  }
 ],
 "metadata": {
  "kernelspec": {
   "display_name": "Python 3",
   "language": "python",
   "name": "python3"
  },
  "language_info": {
   "codemirror_mode": {
    "name": "ipython",
    "version": 3
   },
   "file_extension": ".py",
   "mimetype": "text/x-python",
   "name": "python",
   "nbconvert_exporter": "python",
   "pygments_lexer": "ipython3",
   "version": "3.7.3"
  }
 },
 "nbformat": 4,
 "nbformat_minor": 2
}
